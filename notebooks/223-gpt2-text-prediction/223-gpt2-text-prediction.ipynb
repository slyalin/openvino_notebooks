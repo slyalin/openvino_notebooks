{
 "cells": [
  {
   "cell_type": "markdown",
   "metadata": {},
   "source": [
    "# GPT-2 Text Prediction with OpenVINO\n",
    "\n",
    "This notebook shows a text prediction with OpenVINO. We use the  [GPT-2](https://d4mucfpksywv.cloudfront.net/better-language-models/language_models_are_unsupervised_multitask_learners.pdf) model, which is a part of the Generative Pre-trained Transformer (GPT) family. GPT-2 is pre-trained on a large corpus of English text using unsupervised training. The model is available from [HuggingFace](https://huggingface.co/gpt2). GPT-2 displays a broad set of capabilities, including the ability to generate conditional synthetic text samples of unprecedented quality, where we can prime the model with an input and have it generate a lengthy continuation.\n",
    "\n",
    "The following image illustrates complete demo pipeline used for this scenario:\n",
    "\n",
    "![image2](https://user-images.githubusercontent.com/91228207/163990722-d2713ede-921e-4594-8b00-8b5c1a4d73b5.jpeg)\n",
    "\n",
    "Model input is tokenized text, which serves as initial condition for generation, then logits from model inference result should be obtained and token with the highest probability is selected using top-k sampling strategy and joined to input sequence. The procedure repeats until the end of sequence token will be received or specified maximum length will be reached. After that, decoding token ids to text using tokenized should be applied.\n"
   ]
  },
  {
   "cell_type": "markdown",
   "metadata": {},
   "source": [
    "## The model\n"
   ]
  },
  {
   "cell_type": "code",
   "execution_count": 1,
   "metadata": {
    "tags": []
   },
   "outputs": [
    {
     "name": "stderr",
     "output_type": "stream",
     "text": [
      "2023-04-06 02:15:32.738364: I tensorflow/core/platform/cpu_feature_guard.cc:193] This TensorFlow binary is optimized with oneAPI Deep Neural Network Library (oneDNN) to use the following CPU instructions in performance-critical operations:  AVX2 AVX_VNNI FMA\n",
      "To enable them in other operations, rebuild TensorFlow with the appropriate compiler flags.\n",
      "2023-04-06 02:15:32.803278: I tensorflow/core/util/port.cc:104] oneDNN custom operations are on. You may see slightly different numerical results due to floating-point round-off errors from different computation orders. To turn them off, set the environment variable `TF_ENABLE_ONEDNN_OPTS=0`.\n",
      "2023-04-06 02:15:33.118060: W tensorflow/compiler/xla/stream_executor/platform/default/dso_loader.cc:64] Could not load dynamic library 'libnvinfer.so.7'; dlerror: libnvinfer.so.7: cannot open shared object file: No such file or directory; LD_LIBRARY_PATH: /home/slyalin/openvino/install/tools/compile_tool:/home/slyalin/openvino/install/runtime/lib/intel64\n",
      "2023-04-06 02:15:33.118089: W tensorflow/compiler/xla/stream_executor/platform/default/dso_loader.cc:64] Could not load dynamic library 'libnvinfer_plugin.so.7'; dlerror: libnvinfer_plugin.so.7: cannot open shared object file: No such file or directory; LD_LIBRARY_PATH: /home/slyalin/openvino/install/tools/compile_tool:/home/slyalin/openvino/install/runtime/lib/intel64\n",
      "2023-04-06 02:15:33.118092: W tensorflow/compiler/tf2tensorrt/utils/py_utils.cc:38] TF-TRT Warning: Cannot dlopen some TensorRT libraries. If you would like to use Nvidia GPU with TensorRT, please make sure the missing libraries mentioned above are installed properly.\n"
     ]
    }
   ],
   "source": [
    "from transformers import GPT2Tokenizer, GPT2LMHeadModel\n",
    "\n",
    "tokenizer = GPT2Tokenizer.from_pretrained('gpt2')\n",
    "pt_model = GPT2LMHeadModel.from_pretrained('gpt2')"
   ]
  },
  {
   "cell_type": "code",
   "execution_count": 2,
   "metadata": {},
   "outputs": [],
   "source": [
    "# Choose one of the modes\n",
    "mode = 'stateful'   # wraps compiled_model in a wrapper which handles cached key/value pairs from previous iteration\n",
    "#mode = 'stateless' # the orginal version of the code which passes the entrire input to the encoder without using cached values from previous iterations"
   ]
  },
  {
   "cell_type": "markdown",
   "metadata": {},
   "source": [
    "## Convert GPT-2 to OpenVINO IR\n",
    "\n",
    "![conversion_pipeline](https://user-images.githubusercontent.com/29454499/211261803-784d4791-15cb-4aea-8795-0969dfbb8291.png)\n",
    "\n",
    "For starting work with GPT2 model using OpenVINO, model should be converted to OpenVINO Intermediate Represenation (IR) format. HuggingFace provided gpt2 model is a PyTorch model, which is supported in OpenVINO via conversion to ONNX. We will use HuggingFace transformers library capabilities to export model to ONNX. `transformers.onnx.export` accepts preprocessing function for input sample generation (tokenizer in this case), instance of model, ONNX export configuration, ONNX opset version for export and output path. More information about transformers export to ONNX can be found in HuggingFace [documentation](https://huggingface.co/docs/transformers/serialization).\n",
    "\n",
    "While ONNX models are directly supported by OpenVINO runtime, it can be useful to convert them to IR format to take advantage of OpenVINO optimization tools and features.\n",
    "The `mo.convert_model` python function can be used for converting model with [OpenVINO Model Optimizer](https://docs.openvino.ai/latest/openvino_docs_MO_DG_Python_API.html). The function returns instance of OpenVINO Model class, which is ready to use in Python interface. However, it can also be serialized to OpenVINO IR format for future execution using `openvino.runtime.serialize`. In this case, `compress_to_fp16` parameter is enabled for compression model weights to `FP16` precision and also specified dynamic input shapes with possible shape range (from one token to maximum length defined in the processing function) for optimization of memory consumption."
   ]
  },
  {
   "cell_type": "code",
   "execution_count": 3,
   "metadata": {
    "tags": []
   },
   "outputs": [
    {
     "name": "stderr",
     "output_type": "stream",
     "text": [
      "/home/slyalin/venv_openvino/lib/python3.8/site-packages/transformers/models/gpt2/modeling_gpt2.py:806: TracerWarning: Converting a tensor to a Python boolean might cause the trace to be incorrect. We can't record the data flow of Python values, so this value will be treated as a constant in the future. This means that the trace might not generalize to other inputs!\n",
      "  if batch_size <= 0:\n"
     ]
    },
    {
     "name": "stdout",
     "output_type": "stream",
     "text": [
      "============= Diagnostic Run torch.onnx.export version 2.0.0+cu117 =============\n",
      "verbose: False, log level: Level.ERROR\n",
      "======================= 0 NONE 0 NOTE 0 WARNING 0 ERROR ========================\n",
      "\n"
     ]
    }
   ],
   "source": [
    "from pathlib import Path\n",
    "from openvino.runtime import serialize\n",
    "from openvino.tools import mo\n",
    "from transformers.onnx import export, FeaturesManager\n",
    "\n",
    "\n",
    "# define path for saving onnx model\n",
    "onnx_path = Path(\"model/gpt2.onnx\")\n",
    "onnx_path.parent.mkdir(exist_ok=True)\n",
    "\n",
    "# define path for saving openvino model\n",
    "model_path = onnx_path.with_suffix(\".xml\")\n",
    "\n",
    "if mode == 'stateful':\n",
    "    # Will generate extra inputs and output for cached key-value pairs\n",
    "    feature = 'causal-lm-with-past'\n",
    "else:\n",
    "    feature = 'causal-lm'\n",
    "\n",
    "# get model onnx config function for output feature format casual-lm\n",
    "model_kind, model_onnx_config = FeaturesManager.check_supported_model_or_raise(pt_model, feature=feature)\n",
    "\n",
    "# fill onnx config based on pytorch model config\n",
    "onnx_config = model_onnx_config(pt_model.config)\n",
    "\n",
    "# convert model to onnx\n",
    "onnx_inputs, onnx_outputs = export(tokenizer, pt_model, onnx_config, onnx_config.default_onnx_opset, onnx_path)\n",
    "\n",
    "# convert model to openvino\n",
    "ov_model = mo.convert_model(onnx_path, compress_to_fp16=True)\n",
    "\n",
    "# serialize openvino model\n",
    "serialize(ov_model, str(model_path))"
   ]
  },
  {
   "cell_type": "markdown",
   "metadata": {},
   "source": [
    "### Load the model\n",
    "\n",
    "We can start by building an OpenVINO Core object. Then, read the network architecture and model weights from the `.xml` and `.bin` files, respectively. Finally, we compile the model for the desired device. Since we use the dynamic shapes feature, which is only available on CPU, we must use `CPU` for the device. Dynamic shapes support on GPU is coming soon.\n",
    "\n",
    "Since the text recognition model has a dynamic input shape, you cannot directly switch device to `GPU` for inference on integrated or discrete Intel GPUs. In order to run inference on iGPU or dGPU with this model, you will need to resize the inputs to this model to use a fixed size. Then, try running the inference on `GPU` device."
   ]
  },
  {
   "cell_type": "code",
   "execution_count": 4,
   "metadata": {},
   "outputs": [],
   "source": [
    "import openvino.runtime as ov"
   ]
  },
  {
   "cell_type": "code",
   "execution_count": 5,
   "metadata": {
    "tags": []
   },
   "outputs": [],
   "source": [
    "from openvino.runtime import Core\n",
    "\n",
    "# initialize openvino core\n",
    "core = Core()\n",
    "\n",
    "# read the model and corresponding weights from file\n",
    "model = core.read_model(model_path)\n",
    "\n",
    "# compile the model for CPU devices\n",
    "stateless_compiled_model = core.compile_model(model=model, device_name=\"CPU\")\n",
    "\n",
    "# get output tensors\n",
    "output_key = stateless_compiled_model.output(0)  # TODO: always 0th input? should we better use 'logits'?"
   ]
  },
  {
   "cell_type": "code",
   "execution_count": 6,
   "metadata": {},
   "outputs": [],
   "source": [
    "# Wrap compiled_model in a helper structure that handles the state\n",
    "class StatefulModel:\n",
    "    def __init__(self, compiled_model):\n",
    "        self.compiled_model = compiled_model\n",
    "        self.build_pairs()\n",
    "        self.reset()\n",
    "        \n",
    "    def build_pairs(self):\n",
    "        self.state_pairs = []\n",
    "        # Identify input and output pairs that carry state based on names\n",
    "        # The code can be simplified if it is guaranteed that the indices of them are the same in the inputs and outputs\n",
    "        for input in self.compiled_model.inputs:\n",
    "            input_prefix = 'past_key_values.'\n",
    "            output_prefix = 'present.'\n",
    "            if input.any_name.startswith(input_prefix):\n",
    "                self.state_pairs.append((input.any_name, self.compiled_model.output(output_prefix + input.any_name[len(input_prefix):])))\n",
    "        \n",
    "    def __call__(self, kwargs):\n",
    "        p1 = time.perf_counter()\n",
    "        if self.state is None:\n",
    "            # Populate state with empty tensors for the first iteration\n",
    "            # Need to know where the batch and sequence dimensions are, because we need to allocate tensors with correct batch dimension set\n",
    "            for input_name, output in self.state_pairs:\n",
    "                shape = self.compiled_model.input(input_name).get_partial_shape()\n",
    "                shape[0] = kwargs['input_ids'].shape[0]  # batch dimension\n",
    "                shape[2] = 0 # sequence dimension\n",
    "                kwargs[input_name] = ov.Tensor(self.compiled_model.input(input_name).get_element_type(), shape.get_shape())\n",
    "        else:\n",
    "            kwargs.update(self.state)\n",
    "        p2 = time.perf_counter()\n",
    "        # TODO: use async infer request with shared tensors between inputs and outputs\n",
    "        # But even with this naively used callable it gives performance improvements\n",
    "        outputs = self.compiled_model(kwargs)\n",
    "        p3 = time.perf_counter()\n",
    "        first_time = self.state is None\n",
    "        self.state = {}\n",
    "        for input_name, output in self.state_pairs:\n",
    "            self.state[input_name] = outputs[output]\n",
    "        p4 = time.perf_counter()\n",
    "        if first_time:\n",
    "            print(f'perf p1..p2: {p2-p1}, p2..p3: {p3-p2}, p3..p4: {p4-p3}, ')\n",
    "        return outputs\n",
    "        \n",
    "    # reset state to be ready for a new sequence\n",
    "    def reset(self):\n",
    "        self.state = None"
   ]
  },
  {
   "cell_type": "code",
   "execution_count": 7,
   "metadata": {},
   "outputs": [],
   "source": [
    "if mode == 'stateful':\n",
    "    compiled_model = StatefulModel(stateless_compiled_model)\n",
    "else:\n",
    "    compiled_model = stateless_compiled_model"
   ]
  },
  {
   "cell_type": "markdown",
   "metadata": {},
   "source": [
    "Input keys are the names of the input nodes and output keys contain names of the output nodes of the network. With GPT-2, we have `batch size` and `sequence length` as inputs and `batch size`, `sequence length` and `vocab size` as outputs."
   ]
  },
  {
   "cell_type": "markdown",
   "metadata": {},
   "source": [
    "## Pre-Processing\n",
    "\n",
    "NLP models often take a list of tokens as a standard input. A token is a single word mapped to an integer. To provide the proper input, we use a vocabulary file to handle the mapping. So first let us load the vocabulary file."
   ]
  },
  {
   "cell_type": "markdown",
   "metadata": {},
   "source": [
    "## Define tokenization"
   ]
  },
  {
   "cell_type": "code",
   "execution_count": 8,
   "metadata": {
    "tags": []
   },
   "outputs": [],
   "source": [
    "# this function converts text to tokens\n",
    "def tokenize(text):\n",
    "    \"\"\"\n",
    "    tokenize input text using GPT2 tokenizer\n",
    "    \n",
    "    Parameters:\n",
    "      text, str - input text\n",
    "    Returns:\n",
    "      input_ids - np.array with input token ids\n",
    "      attention_mask - np.array with 0 in place, where should be padding and 1 for places where original tokens are located, represents attention mask for model \n",
    "    \"\"\"\n",
    "    \n",
    "    inputs = tokenizer(text, return_tensors=\"np\")\n",
    "    return inputs[\"input_ids\"], inputs[\"attention_mask\"]"
   ]
  },
  {
   "cell_type": "markdown",
   "metadata": {},
   "source": [
    "`eos_token` is a special token, which means that generation is finished. We store the index of this token in order to use this index as padding at later stage."
   ]
  },
  {
   "cell_type": "code",
   "execution_count": 9,
   "metadata": {
    "tags": []
   },
   "outputs": [],
   "source": [
    "eos_token_id = tokenizer.eos_token_id"
   ]
  },
  {
   "cell_type": "markdown",
   "metadata": {},
   "source": [
    "### Define Softmax layer\n",
    "A softmax function is used to convert top-k logits into a probability distribution."
   ]
  },
  {
   "cell_type": "code",
   "execution_count": 10,
   "metadata": {
    "tags": []
   },
   "outputs": [],
   "source": [
    "import numpy as np\n",
    "\n",
    "\n",
    "def softmax(x):\n",
    "    e_x = np.exp(x - np.max(x, axis=-1, keepdims=True))\n",
    "    summation = e_x.sum(axis=-1, keepdims=True)\n",
    "    return e_x / summation"
   ]
  },
  {
   "cell_type": "markdown",
   "metadata": {},
   "source": [
    "### Set the minimum sequence length\n",
    "If the minimum sequence length is not reached, the following code will reduce the probability of the `eos` token occurring. This continues the process of generating the next words."
   ]
  },
  {
   "cell_type": "code",
   "execution_count": 11,
   "metadata": {
    "tags": []
   },
   "outputs": [],
   "source": [
    "def process_logits(cur_length, scores, eos_token_id, min_length=0):\n",
    "    \"\"\"\n",
    "    reduce probability for padded indicies\n",
    "    \n",
    "    Parameters:\n",
    "      cur_length - current length of input sequence\n",
    "      scores - model output logits\n",
    "      eos_token_id - index of end of string token in model vocab\n",
    "      min_length - minimum length for appling postprocessing\n",
    "    \"\"\"\n",
    "    if cur_length < min_length:\n",
    "        scores[:, eos_token_id] = -float(\"inf\")\n",
    "    return scores"
   ]
  },
  {
   "cell_type": "markdown",
   "metadata": {},
   "source": [
    "### Top-K sampling\n",
    "In Top-K sampling, we filter the K most likely next words and redistribute the probability mass among only those K next words."
   ]
  },
  {
   "cell_type": "code",
   "execution_count": 12,
   "metadata": {},
   "outputs": [],
   "source": [
    "def get_top_k_logits(scores, top_k):\n",
    "    \"\"\"\n",
    "    perform top-k sampling\n",
    "    \n",
    "    Parameters:\n",
    "      scores - model output logits\n",
    "      top_k - number of elements with highest probability to select\n",
    "    \"\"\"\n",
    "    filter_value = -float(\"inf\")\n",
    "    top_k = min(max(top_k, 1), scores.shape[-1])\n",
    "    top_k_scores = -np.sort(-scores)[:, :top_k]\n",
    "    indices_to_remove = scores < np.min(top_k_scores)\n",
    "    filtred_scores = np.ma.array(scores, mask=indices_to_remove,\n",
    "                                 fill_value=filter_value).filled()\n",
    "    return filtred_scores"
   ]
  },
  {
   "cell_type": "markdown",
   "metadata": {},
   "source": [
    "### Main Processing Function\n",
    "Generate the predicted sequence."
   ]
  },
  {
   "cell_type": "code",
   "execution_count": 13,
   "metadata": {},
   "outputs": [],
   "source": [
    "def generate_sequence(input_ids, attention_mask, max_sequence_length=128,\n",
    "                      eos_token_id=eos_token_id, dynamic_shapes=True):\n",
    "    \"\"\"\n",
    "    text prediction cycle.\n",
    "\n",
    "    Parameters:\n",
    "      input_ids: tokenized input ids for model\n",
    "      attention_mask: attention mask for model\n",
    "      max_sequence_length: maximum sequence length for stop iteration\n",
    "      eos_token_ids: end of sequence index from vocab\n",
    "      dynamic_shapes: use dynamic shapes for inference or pad model input to max_sequece_length\n",
    "    Returns:\n",
    "      predicted token ids sequence\n",
    "    \"\"\"\n",
    "    if isinstance(compiled_model, StatefulModel):\n",
    "        compiled_model.reset()\n",
    "    model_input_ids = input_ids\n",
    "    while True:\n",
    "        cur_input_len = len(input_ids[0])\n",
    "        if not dynamic_shapes and not isinstance(compiled_model, StatefulModel):\n",
    "            pad_len = max_sequence_length - cur_input_len\n",
    "            model_input_ids = np.concatenate((input_ids, [[eos_token_id] * pad_len]), axis=-1)\n",
    "            model_input_attention_mask = np.concatenate((attention_mask, [[0] * pad_len]), axis=-1)\n",
    "        else:\n",
    "            model_input_attention_mask = attention_mask\n",
    "\n",
    "        start = time.perf_counter()\n",
    "        outputs = compiled_model({\"input_ids\": model_input_ids, \"attention_mask\": model_input_attention_mask})[output_key]\n",
    "        end = time.perf_counter()\n",
    "        print(end - start)\n",
    "\n",
    "        next_token_logits = outputs[:, -1, :]\n",
    "        # pre-process distribution\n",
    "        next_token_scores = process_logits(cur_input_len,\n",
    "                                           next_token_logits, eos_token_id)\n",
    "        top_k = 20\n",
    "        next_token_scores = get_top_k_logits(next_token_scores, top_k)\n",
    "        # get next token id\n",
    "        probs = softmax(next_token_scores)\n",
    "        next_tokens = np.random.choice(probs.shape[-1], 1,\n",
    "                                       p=probs[0], replace=True)\n",
    "        # break the loop if max length or end of text token is reached\n",
    "        if cur_input_len == max_sequence_length or next_tokens == eos_token_id:\n",
    "            break\n",
    "        else:\n",
    "            input_ids = np.concatenate((input_ids, [next_tokens]), axis=-1)\n",
    "            attention_mask = np.concatenate((attention_mask, [[1] * len(next_tokens)]), axis=-1)\n",
    "            if isinstance(compiled_model, StatefulModel):\n",
    "                model_input_ids = np.array([next_tokens])\n",
    "            else:\n",
    "                model_input_ids = input_ids\n",
    "    return input_ids"
   ]
  },
  {
   "cell_type": "markdown",
   "metadata": {},
   "source": [
    "## Run\n",
    "The `text` variable below is the input used to generate a predicted sequence."
   ]
  },
  {
   "cell_type": "code",
   "execution_count": 16,
   "metadata": {
    "tags": []
   },
   "outputs": [
    {
     "name": "stdout",
     "output_type": "stream",
     "text": [
      "perf p1..p2: 0.00022553419694304466, p2..p3: 0.0276347859762609, p3..p4: 6.847991608083248e-05, \n",
      "0.028029551962390542\n",
      "0.018220022087916732\n",
      "0.01706844987347722\n",
      "0.016715022968128324\n",
      "0.01680465997196734\n",
      "0.01668190094642341\n",
      "0.01675644190981984\n",
      "0.016724367858842015\n",
      "0.016768553061410785\n",
      "0.016993527067825198\n",
      "0.016904365038499236\n",
      "0.017442172160372138\n",
      "0.017024751054123044\n",
      "0.01684852479957044\n",
      "0.016935155959799886\n",
      "0.016917634988203645\n",
      "0.017213913146406412\n",
      "0.017006686190143228\n",
      "0.017284360947087407\n",
      "0.017151687061414123\n",
      "0.017061993945389986\n",
      "0.01705497782677412\n",
      "0.017383768921718\n",
      "0.017145529156550765\n",
      "0.017349696019664407\n",
      "0.017131561879068613\n",
      "0.017157042864710093\n",
      "0.017222587950527668\n",
      "0.01718850084580481\n",
      "0.0172158379573375\n",
      "0.0171463789884001\n",
      "0.01733879093080759\n",
      "0.017277144128456712\n",
      "0.017578825121745467\n",
      "0.01736408704891801\n",
      "0.017358443001285195\n",
      "0.01736928103491664\n",
      "0.01738218078389764\n",
      "0.01739831198938191\n",
      "0.01743061002343893\n",
      "0.017398732947185636\n",
      "0.017438181908801198\n",
      "0.017762296833097935\n",
      "0.01847860193811357\n",
      "0.01802369998767972\n",
      "0.01759065198712051\n",
      "0.017619068967178464\n",
      "0.017651715083047748\n",
      "0.017949263099581003\n",
      "0.01774937706068158\n",
      "0.017850568052381277\n",
      "0.017900626175105572\n",
      "0.01786851789802313\n",
      "0.01802424481138587\n",
      "0.018356502056121826\n",
      "0.01788051798939705\n",
      "0.018144331872463226\n",
      "0.019077572040259838\n",
      "0.018730778014287353\n",
      "0.018021380063146353\n",
      "0.017992970999330282\n",
      "0.01801739283837378\n",
      "0.01798781007528305\n",
      "0.018268595915287733\n",
      "0.018015531823039055\n",
      "0.018010789062827826\n",
      "0.01807162002660334\n",
      "0.018406301038339734\n",
      "0.01813446287997067\n",
      "0.018072124803438783\n",
      "0.018127772957086563\n",
      "0.018183028092607856\n",
      "0.018178510013967752\n",
      "0.018464304972440004\n",
      "0.018198042176663876\n",
      "0.01861132588237524\n",
      "0.018231914145871997\n",
      "0.01833405182696879\n",
      "0.018613197142258286\n",
      "0.01828721514903009\n",
      "0.018596400041133165\n",
      "0.018311202991753817\n",
      "0.018385546980425715\n",
      "0.018639231799170375\n",
      "0.018429954070597887\n",
      "0.01844185614027083\n",
      "0.01840622816234827\n",
      "0.01844701892696321\n",
      "0.0184929589740932\n",
      "0.018821581033989787\n",
      "0.018499815138056874\n",
      "0.01853132015094161\n",
      "0.018999092979356647\n",
      "0.018925942946225405\n",
      "0.018809759058058262\n",
      "0.01851194677874446\n",
      "0.018503510858863592\n",
      "0.018508703913539648\n",
      "0.018450444098562002\n",
      "0.01854275492951274\n",
      "0.01854462013579905\n",
      "0.018574815010651946\n",
      "0.018627543933689594\n",
      "0.018849984044209123\n",
      "0.01858997601084411\n",
      "0.018706168979406357\n",
      "0.018721729051321745\n",
      "0.018672914942726493\n",
      "0.01877152011729777\n",
      "0.018690634984523058\n",
      "0.018714962992817163\n",
      "0.018680467968806624\n",
      "0.018743959022685885\n",
      "0.01908327522687614\n",
      "0.01878275885246694\n",
      "0.018865428864955902\n",
      "0.01882592891342938\n",
      "Generation took 2.413 s\n",
      "Input Text:  Deep learning is a type of machine learning that uses neural networks\n",
      "\n",
      "Predicted Sequence: Deep learning is a type of machine learning that uses neural networks to learn tasks that can be learned in the real world, such as playing a video game or playing in video-game arenas.\n",
      "\n",
      "\"We are seeing that this can be used in a variety of ways,\" said co-author David B. Williams, a professor at Indiana University. \"It could also be used to learn from real-world games, such as playing tennis, or even in a sports setting.\"\n",
      "\n",
      "To investigate these issues with artificial intelligence, Baudet and colleagues studied the relationship between video game play and memory. Researchers first developed an artificial intelligence system\n"
     ]
    }
   ],
   "source": [
    "import time\n",
    "text = \"Deep learning is a type of machine learning that uses neural networks\"\n",
    "input_ids, attention_mask = tokenize(text)\n",
    "\n",
    "start = time.perf_counter()\n",
    "output_ids = generate_sequence(input_ids, attention_mask)\n",
    "end = time.perf_counter()\n",
    "output_text = \" \"\n",
    "# Convert IDs to words and make the sentence from it\n",
    "for i in output_ids[0]:\n",
    "    output_text += tokenizer.convert_tokens_to_string(tokenizer._convert_id_to_token(i))\n",
    "print(f\"Generation took {end - start:.3f} s\")\n",
    "print(\"Input Text: \", text)\n",
    "print()\n",
    "print(f\"Predicted Sequence:{output_text}\")"
   ]
  },
  {
   "cell_type": "code",
   "execution_count": null,
   "metadata": {},
   "outputs": [],
   "source": []
  }
 ],
 "metadata": {
  "kernelspec": {
   "display_name": "Python 3 (ipykernel)",
   "language": "python",
   "name": "python3"
  },
  "language_info": {
   "codemirror_mode": {
    "name": "ipython",
    "version": 3
   },
   "file_extension": ".py",
   "mimetype": "text/x-python",
   "name": "python",
   "nbconvert_exporter": "python",
   "pygments_lexer": "ipython3",
   "version": "3.8.10"
  },
  "vscode": {
   "interpreter": {
    "hash": "033257a69bf603b2de0dc0c42b5465d421ac707c57e304e82520be1d43cc042f"
   }
  }
 },
 "nbformat": 4,
 "nbformat_minor": 4
}
